{
 "cells": [
  {
   "cell_type": "code",
   "execution_count": 40,
   "id": "1fba1ba3",
   "metadata": {},
   "outputs": [],
   "source": [
    "#1. Using Exponentiation"
   ]
  },
  {
   "cell_type": "code",
   "execution_count": 41,
   "id": "5495bb1d",
   "metadata": {},
   "outputs": [
    {
     "name": "stdout",
     "output_type": "stream",
     "text": [
      "Square Root of given number is 8.0\n"
     ]
    }
   ],
   "source": [
    "num = 64 # Here the number is pre-defined\n",
    "sr = num**(1/2) \n",
    "# sr is variable where the result of square root calculation is stored\n",
    "# ** double astrick is used for exponential, here the power is 1/2 also insted of 1/2 we can write 0.5\n",
    "print(\"Square Root of given number is\", sr) # This line prints out the calculated square root."
   ]
  },
  {
   "cell_type": "code",
   "execution_count": 42,
   "id": "b59e528d",
   "metadata": {},
   "outputs": [],
   "source": [
    "# Integer Number"
   ]
  },
  {
   "cell_type": "code",
   "execution_count": 43,
   "id": "7d4d5ee2",
   "metadata": {},
   "outputs": [
    {
     "name": "stdout",
     "output_type": "stream",
     "text": [
      "Enter the Number: 49\n",
      "Square Root of given number is 7.0\n"
     ]
    }
   ],
   "source": [
    "num1 = int(input(\"Enter the Number: \")) #The input() function takes the input as a integer, and int() converts it to a integer number\n",
    "sr = num1**(1/2) \n",
    "print(\"Square Root of given number is\", sr) # This line prints out the calculated square root."
   ]
  },
  {
   "cell_type": "code",
   "execution_count": 44,
   "id": "c2b2a343",
   "metadata": {},
   "outputs": [],
   "source": [
    "# Floating Number"
   ]
  },
  {
   "cell_type": "code",
   "execution_count": 45,
   "id": "e2ff8405",
   "metadata": {},
   "outputs": [
    {
     "name": "stdout",
     "output_type": "stream",
     "text": [
      "Enter the Number: 11.777\n",
      "Square Root of given number is 3.4317633951075357\n"
     ]
    }
   ],
   "source": [
    "num2 = float(input(\"Enter the Number: \")) # The input() function takes the input as a string, and float() converts it to a floating-point number \n",
    "sr = num2**(1/2) \n",
    "print(\"Square Root of given number is\", sr) # This line prints out the calculated square root."
   ]
  },
  {
   "cell_type": "code",
   "execution_count": 46,
   "id": "63cd683e",
   "metadata": {},
   "outputs": [],
   "source": [
    "#2. Using Math Module "
   ]
  },
  {
   "cell_type": "code",
   "execution_count": 47,
   "id": "0a67cfe8",
   "metadata": {},
   "outputs": [
    {
     "name": "stdout",
     "output_type": "stream",
     "text": [
      "Enter the number: 81\n",
      "Square root of given number is 9.0\n"
     ]
    }
   ],
   "source": [
    "import math # This line imports the math module, which provides mathematical functions and constants.\n",
    "num = int(input(\"Enter the number: \")) #The input() function takes the input as a integer, and int() converts it to a integer number\n",
    "sr = math.sqrt(num) #This line calculates the square root of the entered number using the math.sqrt() function from the math module.\n",
    "print(\"Square root of given number is\", sr) #This line prints out the calculated square root."
   ]
  },
  {
   "cell_type": "code",
   "execution_count": 48,
   "id": "b2376555",
   "metadata": {},
   "outputs": [
    {
     "name": "stdout",
     "output_type": "stream",
     "text": [
      "Enter the number: 99.11\n",
      "Square root of given number is 9.955400544428135\n"
     ]
    }
   ],
   "source": [
    "import math # This line imports the math module, which provides mathematical functions and constants.\n",
    "num = float(input(\"Enter the number: \")) #The input() function takes the input as a string, and float() converts it to a floating-point number\n",
    "sr = math.sqrt(num) #This line calculates the square root of the entered number using the math.sqrt() function from the math module.\n",
    "print(\"Square root of given number is\", sr) #This line prints out the calculated square root."
   ]
  },
  {
   "cell_type": "code",
   "execution_count": null,
   "id": "16838906",
   "metadata": {},
   "outputs": [],
   "source": []
  }
 ],
 "metadata": {
  "kernelspec": {
   "display_name": "Python 3 (ipykernel)",
   "language": "python",
   "name": "python3"
  },
  "language_info": {
   "codemirror_mode": {
    "name": "ipython",
    "version": 3
   },
   "file_extension": ".py",
   "mimetype": "text/x-python",
   "name": "python",
   "nbconvert_exporter": "python",
   "pygments_lexer": "ipython3",
   "version": "3.9.13"
  }
 },
 "nbformat": 4,
 "nbformat_minor": 5
}
